{
 "metadata": {
  "language_info": {
   "codemirror_mode": {
    "name": "ipython",
    "version": 3
   },
   "file_extension": ".py",
   "mimetype": "text/x-python",
   "name": "python",
   "nbconvert_exporter": "python",
   "pygments_lexer": "ipython3",
   "version": "3.9.5"
  },
  "orig_nbformat": 2,
  "kernelspec": {
   "name": "python395jvsc74a57bd0522ee6a385ba2009bb53b8e0f2503c0f95079418b7c1630431960ce2d14d8339",
   "display_name": "Python 3.9.5 64-bit"
  },
  "metadata": {
   "interpreter": {
    "hash": "522ee6a385ba2009bb53b8e0f2503c0f95079418b7c1630431960ce2d14d8339"
   }
  }
 },
 "nbformat": 4,
 "nbformat_minor": 2,
 "cells": [
  {
   "cell_type": "code",
   "execution_count": 1,
   "metadata": {},
   "outputs": [],
   "source": [
    "import pandas as pd"
   ]
  },
  {
   "cell_type": "code",
   "execution_count": 4,
   "metadata": {},
   "outputs": [],
   "source": [
    "player_df_final = pd.read_csv('player_data_final.csv')"
   ]
  },
  {
   "cell_type": "code",
   "execution_count": 5,
   "metadata": {},
   "outputs": [
    {
     "output_type": "execute_result",
     "data": {
      "text/plain": [
       "    ID        player  points  possessions  team_pace         GP        MPG  \\\n",
       "26  31   tune_squad1  2049.0       1434.0      110.0  64.000000  38.800000   \n",
       "27  32   tune_squad2  1795.0       1481.8      112.1  62.000000  35.400000   \n",
       "28  33   tune_squad3  1805.0       1509.9      108.6  64.000000  35.400000   \n",
       "29  34   tune_squad4  1743.0       1422.4      112.9  64.000000  36.300000   \n",
       "30  35   tune_squad5  1963.0       1539.1      117.4  59.771429  35.208333   \n",
       "31  36   tune_squad6  2062.0       1505.7      111.5  59.771429  37.000000   \n",
       "32  37   tune_squad7  1845.0       1435.7      113.1  69.000000  36.900000   \n",
       "33  38   tune_squad8  1778.0       1526.4      109.3  66.000000  34.900000   \n",
       "34  39   tune_squad9  1901.0       1444.1      109.7  67.000000  36.500000   \n",
       "35  41  tune_squad11  2030.0       1431.0      112.3  68.000000  37.000000   \n",
       "36  42  tune_squad12  1631.0       1465.7      110.1  66.000000  37.500000   \n",
       "37  43  tune_squad13  1828.0       1507.2      112.7  64.000000  36.500000   \n",
       "38  44  tune_squad14  1821.0       1443.7      118.8  66.000000  36.600000   \n",
       "39  45  tune_squad15  1740.0       1443.9      114.1  68.000000  37.100000   \n",
       "40  46  tune_squad16  1993.0       1459.0      112.5  59.771429  36.900000   \n",
       "\n",
       "      TS%   AST    TO   USG  ORR   DRR  REBR        PER  \n",
       "26  0.619  31.5  14.9  35.5  8.3  17.6  12.8  28.440000  \n",
       "27  0.608  31.9  14.5  32.0  6.5  22.5  12.9  23.340000  \n",
       "28  0.622  27.9  13.9  36.0  5.9  27.7  12.2  22.410000  \n",
       "29  0.619  30.9  15.6  34.5  5.9  18.9  14.8  29.853138  \n",
       "30  0.633  32.3  16.2  34.0  5.9  19.8  13.1  27.160000  \n",
       "31  0.620  29.8  15.6  36.2  4.9  23.9  14.7  27.860000  \n",
       "32  0.634  33.2  14.0  36.5  4.1  21.5  16.4  34.260000  \n",
       "33  0.612  30.6  15.9  35.9  5.5  18.8  13.7  28.650000  \n",
       "34  0.609  27.2  14.8  35.5  5.0  21.8   8.9  20.120000  \n",
       "35  0.618  32.5  15.3  34.5  5.7  15.7  13.2  30.070000  \n",
       "36  0.613  28.4  14.4  35.7  6.5  20.7  14.0  28.400000  \n",
       "37  0.618  31.3  14.0  34.9  5.9  21.3  14.5  29.094310  \n",
       "38  0.609  27.3  13.5  35.8  7.0  23.8  11.5  22.960000  \n",
       "39  0.611  26.6  15.2  29.3  8.3  17.7  11.1  21.220000  \n",
       "40  0.627  30.4  15.0  33.7  6.3  19.3  14.1  28.760000  "
      ],
      "text/html": "<div>\n<style scoped>\n    .dataframe tbody tr th:only-of-type {\n        vertical-align: middle;\n    }\n\n    .dataframe tbody tr th {\n        vertical-align: top;\n    }\n\n    .dataframe thead th {\n        text-align: right;\n    }\n</style>\n<table border=\"1\" class=\"dataframe\">\n  <thead>\n    <tr style=\"text-align: right;\">\n      <th></th>\n      <th>ID</th>\n      <th>player</th>\n      <th>points</th>\n      <th>possessions</th>\n      <th>team_pace</th>\n      <th>GP</th>\n      <th>MPG</th>\n      <th>TS%</th>\n      <th>AST</th>\n      <th>TO</th>\n      <th>USG</th>\n      <th>ORR</th>\n      <th>DRR</th>\n      <th>REBR</th>\n      <th>PER</th>\n    </tr>\n  </thead>\n  <tbody>\n    <tr>\n      <th>26</th>\n      <td>31</td>\n      <td>tune_squad1</td>\n      <td>2049.0</td>\n      <td>1434.0</td>\n      <td>110.0</td>\n      <td>64.000000</td>\n      <td>38.800000</td>\n      <td>0.619</td>\n      <td>31.5</td>\n      <td>14.9</td>\n      <td>35.5</td>\n      <td>8.3</td>\n      <td>17.6</td>\n      <td>12.8</td>\n      <td>28.440000</td>\n    </tr>\n    <tr>\n      <th>27</th>\n      <td>32</td>\n      <td>tune_squad2</td>\n      <td>1795.0</td>\n      <td>1481.8</td>\n      <td>112.1</td>\n      <td>62.000000</td>\n      <td>35.400000</td>\n      <td>0.608</td>\n      <td>31.9</td>\n      <td>14.5</td>\n      <td>32.0</td>\n      <td>6.5</td>\n      <td>22.5</td>\n      <td>12.9</td>\n      <td>23.340000</td>\n    </tr>\n    <tr>\n      <th>28</th>\n      <td>33</td>\n      <td>tune_squad3</td>\n      <td>1805.0</td>\n      <td>1509.9</td>\n      <td>108.6</td>\n      <td>64.000000</td>\n      <td>35.400000</td>\n      <td>0.622</td>\n      <td>27.9</td>\n      <td>13.9</td>\n      <td>36.0</td>\n      <td>5.9</td>\n      <td>27.7</td>\n      <td>12.2</td>\n      <td>22.410000</td>\n    </tr>\n    <tr>\n      <th>29</th>\n      <td>34</td>\n      <td>tune_squad4</td>\n      <td>1743.0</td>\n      <td>1422.4</td>\n      <td>112.9</td>\n      <td>64.000000</td>\n      <td>36.300000</td>\n      <td>0.619</td>\n      <td>30.9</td>\n      <td>15.6</td>\n      <td>34.5</td>\n      <td>5.9</td>\n      <td>18.9</td>\n      <td>14.8</td>\n      <td>29.853138</td>\n    </tr>\n    <tr>\n      <th>30</th>\n      <td>35</td>\n      <td>tune_squad5</td>\n      <td>1963.0</td>\n      <td>1539.1</td>\n      <td>117.4</td>\n      <td>59.771429</td>\n      <td>35.208333</td>\n      <td>0.633</td>\n      <td>32.3</td>\n      <td>16.2</td>\n      <td>34.0</td>\n      <td>5.9</td>\n      <td>19.8</td>\n      <td>13.1</td>\n      <td>27.160000</td>\n    </tr>\n    <tr>\n      <th>31</th>\n      <td>36</td>\n      <td>tune_squad6</td>\n      <td>2062.0</td>\n      <td>1505.7</td>\n      <td>111.5</td>\n      <td>59.771429</td>\n      <td>37.000000</td>\n      <td>0.620</td>\n      <td>29.8</td>\n      <td>15.6</td>\n      <td>36.2</td>\n      <td>4.9</td>\n      <td>23.9</td>\n      <td>14.7</td>\n      <td>27.860000</td>\n    </tr>\n    <tr>\n      <th>32</th>\n      <td>37</td>\n      <td>tune_squad7</td>\n      <td>1845.0</td>\n      <td>1435.7</td>\n      <td>113.1</td>\n      <td>69.000000</td>\n      <td>36.900000</td>\n      <td>0.634</td>\n      <td>33.2</td>\n      <td>14.0</td>\n      <td>36.5</td>\n      <td>4.1</td>\n      <td>21.5</td>\n      <td>16.4</td>\n      <td>34.260000</td>\n    </tr>\n    <tr>\n      <th>33</th>\n      <td>38</td>\n      <td>tune_squad8</td>\n      <td>1778.0</td>\n      <td>1526.4</td>\n      <td>109.3</td>\n      <td>66.000000</td>\n      <td>34.900000</td>\n      <td>0.612</td>\n      <td>30.6</td>\n      <td>15.9</td>\n      <td>35.9</td>\n      <td>5.5</td>\n      <td>18.8</td>\n      <td>13.7</td>\n      <td>28.650000</td>\n    </tr>\n    <tr>\n      <th>34</th>\n      <td>39</td>\n      <td>tune_squad9</td>\n      <td>1901.0</td>\n      <td>1444.1</td>\n      <td>109.7</td>\n      <td>67.000000</td>\n      <td>36.500000</td>\n      <td>0.609</td>\n      <td>27.2</td>\n      <td>14.8</td>\n      <td>35.5</td>\n      <td>5.0</td>\n      <td>21.8</td>\n      <td>8.9</td>\n      <td>20.120000</td>\n    </tr>\n    <tr>\n      <th>35</th>\n      <td>41</td>\n      <td>tune_squad11</td>\n      <td>2030.0</td>\n      <td>1431.0</td>\n      <td>112.3</td>\n      <td>68.000000</td>\n      <td>37.000000</td>\n      <td>0.618</td>\n      <td>32.5</td>\n      <td>15.3</td>\n      <td>34.5</td>\n      <td>5.7</td>\n      <td>15.7</td>\n      <td>13.2</td>\n      <td>30.070000</td>\n    </tr>\n    <tr>\n      <th>36</th>\n      <td>42</td>\n      <td>tune_squad12</td>\n      <td>1631.0</td>\n      <td>1465.7</td>\n      <td>110.1</td>\n      <td>66.000000</td>\n      <td>37.500000</td>\n      <td>0.613</td>\n      <td>28.4</td>\n      <td>14.4</td>\n      <td>35.7</td>\n      <td>6.5</td>\n      <td>20.7</td>\n      <td>14.0</td>\n      <td>28.400000</td>\n    </tr>\n    <tr>\n      <th>37</th>\n      <td>43</td>\n      <td>tune_squad13</td>\n      <td>1828.0</td>\n      <td>1507.2</td>\n      <td>112.7</td>\n      <td>64.000000</td>\n      <td>36.500000</td>\n      <td>0.618</td>\n      <td>31.3</td>\n      <td>14.0</td>\n      <td>34.9</td>\n      <td>5.9</td>\n      <td>21.3</td>\n      <td>14.5</td>\n      <td>29.094310</td>\n    </tr>\n    <tr>\n      <th>38</th>\n      <td>44</td>\n      <td>tune_squad14</td>\n      <td>1821.0</td>\n      <td>1443.7</td>\n      <td>118.8</td>\n      <td>66.000000</td>\n      <td>36.600000</td>\n      <td>0.609</td>\n      <td>27.3</td>\n      <td>13.5</td>\n      <td>35.8</td>\n      <td>7.0</td>\n      <td>23.8</td>\n      <td>11.5</td>\n      <td>22.960000</td>\n    </tr>\n    <tr>\n      <th>39</th>\n      <td>45</td>\n      <td>tune_squad15</td>\n      <td>1740.0</td>\n      <td>1443.9</td>\n      <td>114.1</td>\n      <td>68.000000</td>\n      <td>37.100000</td>\n      <td>0.611</td>\n      <td>26.6</td>\n      <td>15.2</td>\n      <td>29.3</td>\n      <td>8.3</td>\n      <td>17.7</td>\n      <td>11.1</td>\n      <td>21.220000</td>\n    </tr>\n    <tr>\n      <th>40</th>\n      <td>46</td>\n      <td>tune_squad16</td>\n      <td>1993.0</td>\n      <td>1459.0</td>\n      <td>112.5</td>\n      <td>59.771429</td>\n      <td>36.900000</td>\n      <td>0.627</td>\n      <td>30.4</td>\n      <td>15.0</td>\n      <td>33.7</td>\n      <td>6.3</td>\n      <td>19.3</td>\n      <td>14.1</td>\n      <td>28.760000</td>\n    </tr>\n  </tbody>\n</table>\n</div>"
     },
     "metadata": {},
     "execution_count": 5
    }
   ],
   "source": [
    "ts_ds = player_df_final.iloc[26:,:]\n",
    "ts_ds"
   ]
  },
  {
   "cell_type": "code",
   "execution_count": 6,
   "metadata": {},
   "outputs": [
    {
     "output_type": "execute_result",
     "data": {
      "text/plain": [
       "    ID              player\n",
       "0   31           Sylvester\n",
       "1   32  Marvin the Martian\n",
       "2   33         Road Runner\n",
       "3   34     Foghorn Leghorn\n",
       "4   35          Bugs Bunny\n",
       "5   36          Elmer Fudd\n",
       "6   37          Lola Bunny\n",
       "7   38           Porky Pig\n",
       "8   39     Tasmanian Devil\n",
       "9   40        Yosemite Sam\n",
       "10  41            Gossamer\n",
       "11  42              Granny\n",
       "12  43      Wile E. Coyote\n",
       "13  44              Tweety\n",
       "14  45            Penelope\n",
       "15  46          Daffy Duck"
      ],
      "text/html": "<div>\n<style scoped>\n    .dataframe tbody tr th:only-of-type {\n        vertical-align: middle;\n    }\n\n    .dataframe tbody tr th {\n        vertical-align: top;\n    }\n\n    .dataframe thead th {\n        text-align: right;\n    }\n</style>\n<table border=\"1\" class=\"dataframe\">\n  <thead>\n    <tr style=\"text-align: right;\">\n      <th></th>\n      <th>ID</th>\n      <th>player</th>\n    </tr>\n  </thead>\n  <tbody>\n    <tr>\n      <th>0</th>\n      <td>31</td>\n      <td>Sylvester</td>\n    </tr>\n    <tr>\n      <th>1</th>\n      <td>32</td>\n      <td>Marvin the Martian</td>\n    </tr>\n    <tr>\n      <th>2</th>\n      <td>33</td>\n      <td>Road Runner</td>\n    </tr>\n    <tr>\n      <th>3</th>\n      <td>34</td>\n      <td>Foghorn Leghorn</td>\n    </tr>\n    <tr>\n      <th>4</th>\n      <td>35</td>\n      <td>Bugs Bunny</td>\n    </tr>\n    <tr>\n      <th>5</th>\n      <td>36</td>\n      <td>Elmer Fudd</td>\n    </tr>\n    <tr>\n      <th>6</th>\n      <td>37</td>\n      <td>Lola Bunny</td>\n    </tr>\n    <tr>\n      <th>7</th>\n      <td>38</td>\n      <td>Porky Pig</td>\n    </tr>\n    <tr>\n      <th>8</th>\n      <td>39</td>\n      <td>Tasmanian Devil</td>\n    </tr>\n    <tr>\n      <th>9</th>\n      <td>40</td>\n      <td>Yosemite Sam</td>\n    </tr>\n    <tr>\n      <th>10</th>\n      <td>41</td>\n      <td>Gossamer</td>\n    </tr>\n    <tr>\n      <th>11</th>\n      <td>42</td>\n      <td>Granny</td>\n    </tr>\n    <tr>\n      <th>12</th>\n      <td>43</td>\n      <td>Wile E. Coyote</td>\n    </tr>\n    <tr>\n      <th>13</th>\n      <td>44</td>\n      <td>Tweety</td>\n    </tr>\n    <tr>\n      <th>14</th>\n      <td>45</td>\n      <td>Penelope</td>\n    </tr>\n    <tr>\n      <th>15</th>\n      <td>46</td>\n      <td>Daffy Duck</td>\n    </tr>\n  </tbody>\n</table>\n</div>"
     },
     "metadata": {},
     "execution_count": 6
    }
   ],
   "source": [
    "ts_name_df = pd.read_csv('tune_squad.csv',sep='\\t')\n",
    "ts_name_df"
   ]
  },
  {
   "cell_type": "code",
   "execution_count": 9,
   "metadata": {},
   "outputs": [
    {
     "output_type": "execute_result",
     "data": {
      "text/plain": [
       "   ID  player_type  points  possessions  team_pace         GP        MPG  \\\n",
       "0  31  tune_squad1  2049.0       1434.0      110.0  64.000000  38.800000   \n",
       "1  32  tune_squad2  1795.0       1481.8      112.1  62.000000  35.400000   \n",
       "2  33  tune_squad3  1805.0       1509.9      108.6  64.000000  35.400000   \n",
       "3  34  tune_squad4  1743.0       1422.4      112.9  64.000000  36.300000   \n",
       "4  35  tune_squad5  1963.0       1539.1      117.4  59.771429  35.208333   \n",
       "\n",
       "     TS%   AST    TO   USG  ORR   DRR  REBR        PER         player_name  \n",
       "0  0.619  31.5  14.9  35.5  8.3  17.6  12.8  28.440000           Sylvester  \n",
       "1  0.608  31.9  14.5  32.0  6.5  22.5  12.9  23.340000  Marvin the Martian  \n",
       "2  0.622  27.9  13.9  36.0  5.9  27.7  12.2  22.410000         Road Runner  \n",
       "3  0.619  30.9  15.6  34.5  5.9  18.9  14.8  29.853138     Foghorn Leghorn  \n",
       "4  0.633  32.3  16.2  34.0  5.9  19.8  13.1  27.160000          Bugs Bunny  "
      ],
      "text/html": "<div>\n<style scoped>\n    .dataframe tbody tr th:only-of-type {\n        vertical-align: middle;\n    }\n\n    .dataframe tbody tr th {\n        vertical-align: top;\n    }\n\n    .dataframe thead th {\n        text-align: right;\n    }\n</style>\n<table border=\"1\" class=\"dataframe\">\n  <thead>\n    <tr style=\"text-align: right;\">\n      <th></th>\n      <th>ID</th>\n      <th>player_type</th>\n      <th>points</th>\n      <th>possessions</th>\n      <th>team_pace</th>\n      <th>GP</th>\n      <th>MPG</th>\n      <th>TS%</th>\n      <th>AST</th>\n      <th>TO</th>\n      <th>USG</th>\n      <th>ORR</th>\n      <th>DRR</th>\n      <th>REBR</th>\n      <th>PER</th>\n      <th>player_name</th>\n    </tr>\n  </thead>\n  <tbody>\n    <tr>\n      <th>0</th>\n      <td>31</td>\n      <td>tune_squad1</td>\n      <td>2049.0</td>\n      <td>1434.0</td>\n      <td>110.0</td>\n      <td>64.000000</td>\n      <td>38.800000</td>\n      <td>0.619</td>\n      <td>31.5</td>\n      <td>14.9</td>\n      <td>35.5</td>\n      <td>8.3</td>\n      <td>17.6</td>\n      <td>12.8</td>\n      <td>28.440000</td>\n      <td>Sylvester</td>\n    </tr>\n    <tr>\n      <th>1</th>\n      <td>32</td>\n      <td>tune_squad2</td>\n      <td>1795.0</td>\n      <td>1481.8</td>\n      <td>112.1</td>\n      <td>62.000000</td>\n      <td>35.400000</td>\n      <td>0.608</td>\n      <td>31.9</td>\n      <td>14.5</td>\n      <td>32.0</td>\n      <td>6.5</td>\n      <td>22.5</td>\n      <td>12.9</td>\n      <td>23.340000</td>\n      <td>Marvin the Martian</td>\n    </tr>\n    <tr>\n      <th>2</th>\n      <td>33</td>\n      <td>tune_squad3</td>\n      <td>1805.0</td>\n      <td>1509.9</td>\n      <td>108.6</td>\n      <td>64.000000</td>\n      <td>35.400000</td>\n      <td>0.622</td>\n      <td>27.9</td>\n      <td>13.9</td>\n      <td>36.0</td>\n      <td>5.9</td>\n      <td>27.7</td>\n      <td>12.2</td>\n      <td>22.410000</td>\n      <td>Road Runner</td>\n    </tr>\n    <tr>\n      <th>3</th>\n      <td>34</td>\n      <td>tune_squad4</td>\n      <td>1743.0</td>\n      <td>1422.4</td>\n      <td>112.9</td>\n      <td>64.000000</td>\n      <td>36.300000</td>\n      <td>0.619</td>\n      <td>30.9</td>\n      <td>15.6</td>\n      <td>34.5</td>\n      <td>5.9</td>\n      <td>18.9</td>\n      <td>14.8</td>\n      <td>29.853138</td>\n      <td>Foghorn Leghorn</td>\n    </tr>\n    <tr>\n      <th>4</th>\n      <td>35</td>\n      <td>tune_squad5</td>\n      <td>1963.0</td>\n      <td>1539.1</td>\n      <td>117.4</td>\n      <td>59.771429</td>\n      <td>35.208333</td>\n      <td>0.633</td>\n      <td>32.3</td>\n      <td>16.2</td>\n      <td>34.0</td>\n      <td>5.9</td>\n      <td>19.8</td>\n      <td>13.1</td>\n      <td>27.160000</td>\n      <td>Bugs Bunny</td>\n    </tr>\n  </tbody>\n</table>\n</div>"
     },
     "metadata": {},
     "execution_count": 9
    }
   ],
   "source": [
    "ts_ds = pd.merge(ts_ds, ts_name_df, on='ID', how='left', suffixes=('_type', '_name'))\n",
    "ts_ds.head()"
   ]
  },
  {
   "cell_type": "code",
   "execution_count": 10,
   "metadata": {},
   "outputs": [
    {
     "output_type": "execute_result",
     "data": {
      "text/plain": [
       "   ID         player_name  points  possessions  team_pace         GP  \\\n",
       "0  31           Sylvester  2049.0       1434.0      110.0  64.000000   \n",
       "1  32  Marvin the Martian  1795.0       1481.8      112.1  62.000000   \n",
       "2  33         Road Runner  1805.0       1509.9      108.6  64.000000   \n",
       "3  34     Foghorn Leghorn  1743.0       1422.4      112.9  64.000000   \n",
       "4  35          Bugs Bunny  1963.0       1539.1      117.4  59.771429   \n",
       "\n",
       "         MPG    TS%   AST    TO   USG  ORR   DRR  REBR        PER  \n",
       "0  38.800000  0.619  31.5  14.9  35.5  8.3  17.6  12.8  28.440000  \n",
       "1  35.400000  0.608  31.9  14.5  32.0  6.5  22.5  12.9  23.340000  \n",
       "2  35.400000  0.622  27.9  13.9  36.0  5.9  27.7  12.2  22.410000  \n",
       "3  36.300000  0.619  30.9  15.6  34.5  5.9  18.9  14.8  29.853138  \n",
       "4  35.208333  0.633  32.3  16.2  34.0  5.9  19.8  13.1  27.160000  "
      ],
      "text/html": "<div>\n<style scoped>\n    .dataframe tbody tr th:only-of-type {\n        vertical-align: middle;\n    }\n\n    .dataframe tbody tr th {\n        vertical-align: top;\n    }\n\n    .dataframe thead th {\n        text-align: right;\n    }\n</style>\n<table border=\"1\" class=\"dataframe\">\n  <thead>\n    <tr style=\"text-align: right;\">\n      <th></th>\n      <th>ID</th>\n      <th>player_name</th>\n      <th>points</th>\n      <th>possessions</th>\n      <th>team_pace</th>\n      <th>GP</th>\n      <th>MPG</th>\n      <th>TS%</th>\n      <th>AST</th>\n      <th>TO</th>\n      <th>USG</th>\n      <th>ORR</th>\n      <th>DRR</th>\n      <th>REBR</th>\n      <th>PER</th>\n    </tr>\n  </thead>\n  <tbody>\n    <tr>\n      <th>0</th>\n      <td>31</td>\n      <td>Sylvester</td>\n      <td>2049.0</td>\n      <td>1434.0</td>\n      <td>110.0</td>\n      <td>64.000000</td>\n      <td>38.800000</td>\n      <td>0.619</td>\n      <td>31.5</td>\n      <td>14.9</td>\n      <td>35.5</td>\n      <td>8.3</td>\n      <td>17.6</td>\n      <td>12.8</td>\n      <td>28.440000</td>\n    </tr>\n    <tr>\n      <th>1</th>\n      <td>32</td>\n      <td>Marvin the Martian</td>\n      <td>1795.0</td>\n      <td>1481.8</td>\n      <td>112.1</td>\n      <td>62.000000</td>\n      <td>35.400000</td>\n      <td>0.608</td>\n      <td>31.9</td>\n      <td>14.5</td>\n      <td>32.0</td>\n      <td>6.5</td>\n      <td>22.5</td>\n      <td>12.9</td>\n      <td>23.340000</td>\n    </tr>\n    <tr>\n      <th>2</th>\n      <td>33</td>\n      <td>Road Runner</td>\n      <td>1805.0</td>\n      <td>1509.9</td>\n      <td>108.6</td>\n      <td>64.000000</td>\n      <td>35.400000</td>\n      <td>0.622</td>\n      <td>27.9</td>\n      <td>13.9</td>\n      <td>36.0</td>\n      <td>5.9</td>\n      <td>27.7</td>\n      <td>12.2</td>\n      <td>22.410000</td>\n    </tr>\n    <tr>\n      <th>3</th>\n      <td>34</td>\n      <td>Foghorn Leghorn</td>\n      <td>1743.0</td>\n      <td>1422.4</td>\n      <td>112.9</td>\n      <td>64.000000</td>\n      <td>36.300000</td>\n      <td>0.619</td>\n      <td>30.9</td>\n      <td>15.6</td>\n      <td>34.5</td>\n      <td>5.9</td>\n      <td>18.9</td>\n      <td>14.8</td>\n      <td>29.853138</td>\n    </tr>\n    <tr>\n      <th>4</th>\n      <td>35</td>\n      <td>Bugs Bunny</td>\n      <td>1963.0</td>\n      <td>1539.1</td>\n      <td>117.4</td>\n      <td>59.771429</td>\n      <td>35.208333</td>\n      <td>0.633</td>\n      <td>32.3</td>\n      <td>16.2</td>\n      <td>34.0</td>\n      <td>5.9</td>\n      <td>19.8</td>\n      <td>13.1</td>\n      <td>27.160000</td>\n    </tr>\n  </tbody>\n</table>\n</div>"
     },
     "metadata": {},
     "execution_count": 10
    }
   ],
   "source": [
    "column_list = list(ts_ds)\n",
    "player_name = column_list.pop()\n",
    "column_list[1] = player_name\n",
    "ts_ds = ts_ds[column_list]\n",
    "ts_ds.head()"
   ]
  },
  {
   "cell_type": "code",
   "execution_count": 11,
   "metadata": {},
   "outputs": [
    {
     "output_type": "execute_result",
     "data": {
      "text/plain": [
       "TS%     0.008262\n",
       "AST     2.140494\n",
       "TO      0.797197\n",
       "USG     1.892718\n",
       "ORR     1.139465\n",
       "DRR     3.017962\n",
       "REBR    1.802564\n",
       "dtype: float64"
      ]
     },
     "metadata": {},
     "execution_count": 11
    }
   ],
   "source": [
    "# Create a list of only the column names we are interested in.\n",
    "game_stat_cols = list(ts_ds.iloc[:, 7:-1])\n",
    "game_stat_stdevs = []\n",
    "\n",
    "# Create a list of standard deviations for each stat.\n",
    "for stat in game_stat_cols:\n",
    "    game_stat_stdevs.append(ts_ds[stat].std())\n",
    "\n",
    "# Create a Series of the standard deviations, with the stat names as the index.\n",
    "stdev_s = pd.Series(game_stat_stdevs, index=game_stat_cols)\n",
    "stdev_s"
   ]
  },
  {
   "cell_type": "code",
   "execution_count": 14,
   "metadata": {},
   "outputs": [],
   "source": [
    "# Import the models and libraries we need.\n",
    "from sklearn.linear_model import LinearRegression\n",
    "from numpy.random import randn\n",
    "\n",
    "# Get the dependent and independent variables for modeling the PER.\n",
    "X = player_df_final.iloc[:, 7:-1].to_numpy()\n",
    "y = player_df_final.iloc[:, -1]"
   ]
  },
  {
   "cell_type": "code",
   "execution_count": 15,
   "metadata": {},
   "outputs": [
    {
     "output_type": "execute_result",
     "data": {
      "text/plain": [
       "LinearRegression()"
      ]
     },
     "metadata": {},
     "execution_count": 15
    }
   ],
   "source": [
    "# Define and fit the model.\n",
    "lin_reg = LinearRegression()\n",
    "lin_reg.fit(X, y)"
   ]
  },
  {
   "cell_type": "code",
   "execution_count": 19,
   "metadata": {},
   "outputs": [
    {
     "output_type": "stream",
     "name": "stdout",
     "text": [
      "Iteration # \thigh PER \tlow PER\nIteration 1 \tGossamer \tTasmanian Devil\nIteration 2 \tFoghorn Leghorn \tMarvin the Martian\nIteration 3 \tPorky Pig \tPenelope\nIteration 4 \tLola Bunny \tTweety\nIteration 5 \tFoghorn Leghorn \tWile E. Coyote\nIteration 6 \tGossamer \tMarvin the Martian\nIteration 7 \tGossamer \tTasmanian Devil\nIteration 8 \tLola Bunny \tDaffy Duck\nIteration 9 \tLola Bunny \tTasmanian Devil\nIteration 10 \tPorky Pig \tPenelope\n"
     ]
    }
   ],
   "source": [
    "# Print the player with the highest and lower PER for each iteration.\n",
    "print('Iteration # \\thigh PER \\tlow PER')\n",
    "\n",
    "# Run the simulation 10 times.\n",
    "for i in range(10):\n",
    "\n",
    "    # Define an empty temporary DataFrame for each iteration.\n",
    "    # The columns of this DataFrame are the player stats and the index is the players' names.\n",
    "    game_df = pd.DataFrame(columns=game_stat_cols, index=list(ts_ds['player_name']))\n",
    "    \n",
    "    # Loop through each stat.\n",
    "    for stat in game_stat_cols:\n",
    "        \n",
    "        # Each player's stats are used to generate a random value for each iteration.\n",
    "        game_df[stat] = list(ts_ds[stat] + randn(len(ts_ds)) * stdev_s[stat])\n",
    "    \n",
    "    # Use the fitted model to predict players' PERs based on the randomized data.\n",
    "    game_df['PER'] = lin_reg.predict(game_df)\n",
    "\n",
    "    # Print the player with the highest and lower PER for each iteration.\n",
    "    print('Iteration {}'.format(i+1) + ' \\t' + game_df['PER'].idxmax() + ' \\t' + game_df['PER'].idxmin())"
   ]
  },
  {
   "cell_type": "code",
   "execution_count": 20,
   "metadata": {},
   "outputs": [
    {
     "output_type": "execute_result",
     "data": {
      "text/plain": [
       "                                 TS%        AST         TO        USG  \\\n",
       "minutes player_name                                                     \n",
       "0       Sylvester           0.614667  34.013745  14.647494  37.145255   \n",
       "        Marvin the Martian  0.608937  30.111935  14.183951  33.713397   \n",
       "        Road Runner         0.618126  25.464932  13.347257  34.730188   \n",
       "        Foghorn Leghorn     0.607083  25.593202  15.242576  35.860386   \n",
       "        Bugs Bunny          0.627114  32.967743  16.465900  32.990514   \n",
       "        Elmer Fudd          0.615121  30.359213  15.795686  37.239903   \n",
       "        Lola Bunny          0.638534  34.047738  14.415961  36.746196   \n",
       "        Porky Pig           0.617233  29.413882  15.733228  34.778606   \n",
       "        Tasmanian Devil     0.618582  28.126935  15.393109  35.603527   \n",
       "        Gossamer            0.632680  33.816348  15.942347  31.900333   \n",
       "        Granny              0.628706  26.248291  15.098072  37.674004   \n",
       "        Wile E. Coyote      0.616561  31.944890  13.780081  31.963319   \n",
       "        Tweety              0.608426  30.681099  14.016162  37.377414   \n",
       "        Penelope            0.611594  26.951802  14.969067  29.295767   \n",
       "        Daffy Duck          0.619117  31.256215  14.983573  35.184721   \n",
       "12      Sylvester           0.616921  32.506173  14.394237  33.929620   \n",
       "        Marvin the Martian  0.608286  35.113543  15.177242  31.763912   \n",
       "        Road Runner         0.616438  30.116634  13.426287  35.868011   \n",
       "        Foghorn Leghorn     0.621239  34.219500  17.215965  34.116404   \n",
       "        Bugs Bunny          0.627308  31.974625  15.786589  31.031815   \n",
       "        Elmer Fudd          0.615590  29.926615  15.529334  34.731066   \n",
       "        Lola Bunny          0.630006  32.337376  14.044041  38.361895   \n",
       "        Porky Pig           0.625459  35.605655  15.803928  37.936052   \n",
       "        Tasmanian Devil     0.620171  27.740596  14.008425  32.835602   \n",
       "        Gossamer            0.616613  29.808961  15.019510  36.914677   \n",
       "        Granny              0.614282  24.426207  16.931074  33.709907   \n",
       "        Wile E. Coyote      0.610029  27.776830  14.871565  33.690777   \n",
       "        Tweety              0.623467  27.424198  12.704424  35.949125   \n",
       "        Penelope            0.596406  23.761302  15.866844  30.443477   \n",
       "        Daffy Duck          0.611662  35.385934  14.840037  32.986584   \n",
       "24      Sylvester           0.624356  30.159091  14.821351  38.746883   \n",
       "        Marvin the Martian  0.618573  32.094127  14.679975  31.026946   \n",
       "        Road Runner         0.633047  29.520586  13.760796  33.342606   \n",
       "        Foghorn Leghorn     0.617395  32.036366  14.866802  37.223825   \n",
       "        Bugs Bunny          0.627845  34.122943  14.994379  32.195820   \n",
       "        Elmer Fudd          0.615766  27.765832  14.642831  34.660409   \n",
       "        Lola Bunny          0.637466  29.832727  15.716571  34.166598   \n",
       "        Porky Pig           0.595595  31.124969  14.482731  33.741422   \n",
       "        Tasmanian Devil     0.613218  26.840580  14.073545  37.264438   \n",
       "        Gossamer            0.621674  34.389469  16.049611  35.584218   \n",
       "        Granny              0.625862  25.864492  14.691317  34.490525   \n",
       "        Wile E. Coyote      0.624036  27.207557  13.570077  37.190182   \n",
       "        Tweety              0.607694  27.450094  12.350744  39.512016   \n",
       "        Penelope            0.613178  26.913538  14.053947  31.148268   \n",
       "        Daffy Duck          0.628248  28.956564  15.244341  33.917377   \n",
       "36      Sylvester           0.617260  34.401920  15.140567  36.904334   \n",
       "        Marvin the Martian  0.609166  32.336227  13.862767  30.682354   \n",
       "        Road Runner         0.627826  27.397963  13.492142  36.556197   \n",
       "        Foghorn Leghorn     0.614912  30.782816  15.878454  35.500443   \n",
       "        Bugs Bunny          0.610781  32.351905  14.848439  32.212458   \n",
       "        Elmer Fudd          0.608153  29.842976  16.167218  35.290089   \n",
       "        Lola Bunny          0.635654  33.547858  13.150205  36.669358   \n",
       "        Porky Pig           0.599812  29.110660  15.921443  39.126839   \n",
       "        Tasmanian Devil     0.604409  27.635730  13.612671  31.698874   \n",
       "        Gossamer            0.620466  31.252008  15.548794  35.501865   \n",
       "        Granny              0.617780  28.122471  14.684284  34.113197   \n",
       "        Wile E. Coyote      0.632471  29.507201  14.010215  32.807037   \n",
       "        Tweety              0.602517  28.901738  13.250853  35.547715   \n",
       "        Penelope            0.599279  25.668632  15.084460  33.082759   \n",
       "        Daffy Duck          0.615716  29.686472  15.259576  29.721077   \n",
       "\n",
       "                                 ORR        DRR       REBR        PER  \n",
       "minutes player_name                                                    \n",
       "0       Sylvester           8.283108  23.321558  12.430229  25.404221  \n",
       "        Marvin the Martian  6.928051  17.860791  12.002319  26.025085  \n",
       "        Road Runner         7.305018  21.229107  13.245840  26.710741  \n",
       "        Foghorn Leghorn     4.931598  16.784489  12.913175  28.604658  \n",
       "        Bugs Bunny          4.597122  14.974182  14.626444  31.654908  \n",
       "        Elmer Fudd          4.304861  20.656943  14.310897  29.748621  \n",
       "        Lola Bunny          4.180761  22.147213  16.510354  34.077524  \n",
       "        Porky Pig           5.698887  16.043139  12.862661  28.834098  \n",
       "        Tasmanian Devil     4.536713  19.458621   9.734131  23.301023  \n",
       "        Gossamer            5.753386  11.788298  13.792745  32.219482  \n",
       "        Granny              6.928156  24.240599  12.167379  24.912135  \n",
       "        Wile E. Coyote      6.679386  21.647629  14.971064  27.653426  \n",
       "        Tweety              7.005308  24.796625  10.140395  21.439711  \n",
       "        Penelope            7.133217  18.748573  12.675372  23.115635  \n",
       "        Daffy Duck          6.094504  30.481577  15.243606  24.044557  \n",
       "12      Sylvester           7.682679  13.934773  14.344820  32.221968  \n",
       "        Marvin the Martian  6.292489  25.147510  14.600436  24.011990  \n",
       "        Road Runner         4.373440  27.396466  13.150275  24.492679  \n",
       "        Foghorn Leghorn     6.499253  20.262973  17.078370  31.350556  \n",
       "        Bugs Bunny          4.581933  22.771153  13.506299  24.391973  \n",
       "        Elmer Fudd          4.863447  22.864456  12.045542  23.725948  \n",
       "        Lola Bunny          4.331783  16.841114  16.278124  37.524819  \n",
       "        Porky Pig           5.863382  22.339962  15.581493  31.595700  \n",
       "        Tasmanian Devil     3.767198  21.099781   9.225183  20.935741  \n",
       "        Gossamer            4.727817  17.864036  13.500784  30.515731  \n",
       "        Granny              7.401412  15.819833  11.289275  24.396099  \n",
       "        Wile E. Coyote      7.502795  19.122763  15.648829  29.597320  \n",
       "        Tweety              5.184001  28.880747  11.278345  21.356923  \n",
       "        Penelope            8.961021  16.037439  11.788647  22.114675  \n",
       "        Daffy Duck          5.535497  21.023430  15.027742  28.488832  \n",
       "24      Sylvester           7.642691  22.451190  14.019674  29.345835  \n",
       "        Marvin the Martian  5.499514  21.160855  11.897965  23.053380  \n",
       "        Road Runner         7.384628  27.749690  11.380414  20.249751  \n",
       "        Foghorn Leghorn     4.452568  15.871959  14.746099  34.081128  \n",
       "        Bugs Bunny          4.084502  15.360965  10.902459  26.872397  \n",
       "        Elmer Fudd          4.687377  25.718386  16.134627  27.926526  \n",
       "        Lola Bunny          4.839065  18.576341  15.517048  32.001497  \n",
       "        Porky Pig           6.520593  19.403661  15.098909  28.660395  \n",
       "        Tasmanian Devil     5.240872  19.378066  11.131734  26.410875  \n",
       "        Gossamer            4.597731   9.784009  16.351950  38.880098  \n",
       "        Granny              6.674332  21.332127  15.588129  29.645427  \n",
       "        Wile E. Coyote      8.079963  22.308908  13.815201  28.495237  \n",
       "        Tweety              6.711323  19.887700  10.205461  26.490005  \n",
       "        Penelope            7.952882  14.924186  11.853631  25.843251  \n",
       "        Daffy Duck          6.315589  17.937021  13.444315  28.651908  \n",
       "36      Sylvester           9.014761  23.038482  15.057178  28.809615  \n",
       "        Marvin the Martian  7.058946  23.423840  13.152047  22.736983  \n",
       "        Road Runner         6.258163  26.355729  11.264560  22.803450  \n",
       "        Foghorn Leghorn     5.965294  18.908133  11.960531  26.094368  \n",
       "        Bugs Bunny          7.279215  19.702853  16.317508  29.842445  \n",
       "        Elmer Fudd          2.838064  23.140353  13.788490  26.031215  \n",
       "        Lola Bunny          3.983552  20.110698  16.454580  35.755853  \n",
       "        Porky Pig           5.964869  22.755042  13.665009  27.201331  \n",
       "        Tasmanian Devil     7.041751  22.448240   7.402258  15.379120  \n",
       "        Gossamer            3.921959  10.779538  13.510357  34.340521  \n",
       "        Granny              4.585701  20.292809  14.500796  28.843918  \n",
       "        Wile E. Coyote      5.563473  24.846579  13.838841  25.424195  \n",
       "        Tweety              6.760709  28.073409  13.030263  22.300786  \n",
       "        Penelope            7.989711  17.390489  12.570710  24.973227  \n",
       "        Daffy Duck          6.356571  19.536531  14.292805  25.664584  "
      ],
      "text/html": "<div>\n<style scoped>\n    .dataframe tbody tr th:only-of-type {\n        vertical-align: middle;\n    }\n\n    .dataframe tbody tr th {\n        vertical-align: top;\n    }\n\n    .dataframe thead th {\n        text-align: right;\n    }\n</style>\n<table border=\"1\" class=\"dataframe\">\n  <thead>\n    <tr style=\"text-align: right;\">\n      <th></th>\n      <th></th>\n      <th>TS%</th>\n      <th>AST</th>\n      <th>TO</th>\n      <th>USG</th>\n      <th>ORR</th>\n      <th>DRR</th>\n      <th>REBR</th>\n      <th>PER</th>\n    </tr>\n    <tr>\n      <th>minutes</th>\n      <th>player_name</th>\n      <th></th>\n      <th></th>\n      <th></th>\n      <th></th>\n      <th></th>\n      <th></th>\n      <th></th>\n      <th></th>\n    </tr>\n  </thead>\n  <tbody>\n    <tr>\n      <th rowspan=\"15\" valign=\"top\">0</th>\n      <th>Sylvester</th>\n      <td>0.614667</td>\n      <td>34.013745</td>\n      <td>14.647494</td>\n      <td>37.145255</td>\n      <td>8.283108</td>\n      <td>23.321558</td>\n      <td>12.430229</td>\n      <td>25.404221</td>\n    </tr>\n    <tr>\n      <th>Marvin the Martian</th>\n      <td>0.608937</td>\n      <td>30.111935</td>\n      <td>14.183951</td>\n      <td>33.713397</td>\n      <td>6.928051</td>\n      <td>17.860791</td>\n      <td>12.002319</td>\n      <td>26.025085</td>\n    </tr>\n    <tr>\n      <th>Road Runner</th>\n      <td>0.618126</td>\n      <td>25.464932</td>\n      <td>13.347257</td>\n      <td>34.730188</td>\n      <td>7.305018</td>\n      <td>21.229107</td>\n      <td>13.245840</td>\n      <td>26.710741</td>\n    </tr>\n    <tr>\n      <th>Foghorn Leghorn</th>\n      <td>0.607083</td>\n      <td>25.593202</td>\n      <td>15.242576</td>\n      <td>35.860386</td>\n      <td>4.931598</td>\n      <td>16.784489</td>\n      <td>12.913175</td>\n      <td>28.604658</td>\n    </tr>\n    <tr>\n      <th>Bugs Bunny</th>\n      <td>0.627114</td>\n      <td>32.967743</td>\n      <td>16.465900</td>\n      <td>32.990514</td>\n      <td>4.597122</td>\n      <td>14.974182</td>\n      <td>14.626444</td>\n      <td>31.654908</td>\n    </tr>\n    <tr>\n      <th>Elmer Fudd</th>\n      <td>0.615121</td>\n      <td>30.359213</td>\n      <td>15.795686</td>\n      <td>37.239903</td>\n      <td>4.304861</td>\n      <td>20.656943</td>\n      <td>14.310897</td>\n      <td>29.748621</td>\n    </tr>\n    <tr>\n      <th>Lola Bunny</th>\n      <td>0.638534</td>\n      <td>34.047738</td>\n      <td>14.415961</td>\n      <td>36.746196</td>\n      <td>4.180761</td>\n      <td>22.147213</td>\n      <td>16.510354</td>\n      <td>34.077524</td>\n    </tr>\n    <tr>\n      <th>Porky Pig</th>\n      <td>0.617233</td>\n      <td>29.413882</td>\n      <td>15.733228</td>\n      <td>34.778606</td>\n      <td>5.698887</td>\n      <td>16.043139</td>\n      <td>12.862661</td>\n      <td>28.834098</td>\n    </tr>\n    <tr>\n      <th>Tasmanian Devil</th>\n      <td>0.618582</td>\n      <td>28.126935</td>\n      <td>15.393109</td>\n      <td>35.603527</td>\n      <td>4.536713</td>\n      <td>19.458621</td>\n      <td>9.734131</td>\n      <td>23.301023</td>\n    </tr>\n    <tr>\n      <th>Gossamer</th>\n      <td>0.632680</td>\n      <td>33.816348</td>\n      <td>15.942347</td>\n      <td>31.900333</td>\n      <td>5.753386</td>\n      <td>11.788298</td>\n      <td>13.792745</td>\n      <td>32.219482</td>\n    </tr>\n    <tr>\n      <th>Granny</th>\n      <td>0.628706</td>\n      <td>26.248291</td>\n      <td>15.098072</td>\n      <td>37.674004</td>\n      <td>6.928156</td>\n      <td>24.240599</td>\n      <td>12.167379</td>\n      <td>24.912135</td>\n    </tr>\n    <tr>\n      <th>Wile E. Coyote</th>\n      <td>0.616561</td>\n      <td>31.944890</td>\n      <td>13.780081</td>\n      <td>31.963319</td>\n      <td>6.679386</td>\n      <td>21.647629</td>\n      <td>14.971064</td>\n      <td>27.653426</td>\n    </tr>\n    <tr>\n      <th>Tweety</th>\n      <td>0.608426</td>\n      <td>30.681099</td>\n      <td>14.016162</td>\n      <td>37.377414</td>\n      <td>7.005308</td>\n      <td>24.796625</td>\n      <td>10.140395</td>\n      <td>21.439711</td>\n    </tr>\n    <tr>\n      <th>Penelope</th>\n      <td>0.611594</td>\n      <td>26.951802</td>\n      <td>14.969067</td>\n      <td>29.295767</td>\n      <td>7.133217</td>\n      <td>18.748573</td>\n      <td>12.675372</td>\n      <td>23.115635</td>\n    </tr>\n    <tr>\n      <th>Daffy Duck</th>\n      <td>0.619117</td>\n      <td>31.256215</td>\n      <td>14.983573</td>\n      <td>35.184721</td>\n      <td>6.094504</td>\n      <td>30.481577</td>\n      <td>15.243606</td>\n      <td>24.044557</td>\n    </tr>\n    <tr>\n      <th rowspan=\"15\" valign=\"top\">12</th>\n      <th>Sylvester</th>\n      <td>0.616921</td>\n      <td>32.506173</td>\n      <td>14.394237</td>\n      <td>33.929620</td>\n      <td>7.682679</td>\n      <td>13.934773</td>\n      <td>14.344820</td>\n      <td>32.221968</td>\n    </tr>\n    <tr>\n      <th>Marvin the Martian</th>\n      <td>0.608286</td>\n      <td>35.113543</td>\n      <td>15.177242</td>\n      <td>31.763912</td>\n      <td>6.292489</td>\n      <td>25.147510</td>\n      <td>14.600436</td>\n      <td>24.011990</td>\n    </tr>\n    <tr>\n      <th>Road Runner</th>\n      <td>0.616438</td>\n      <td>30.116634</td>\n      <td>13.426287</td>\n      <td>35.868011</td>\n      <td>4.373440</td>\n      <td>27.396466</td>\n      <td>13.150275</td>\n      <td>24.492679</td>\n    </tr>\n    <tr>\n      <th>Foghorn Leghorn</th>\n      <td>0.621239</td>\n      <td>34.219500</td>\n      <td>17.215965</td>\n      <td>34.116404</td>\n      <td>6.499253</td>\n      <td>20.262973</td>\n      <td>17.078370</td>\n      <td>31.350556</td>\n    </tr>\n    <tr>\n      <th>Bugs Bunny</th>\n      <td>0.627308</td>\n      <td>31.974625</td>\n      <td>15.786589</td>\n      <td>31.031815</td>\n      <td>4.581933</td>\n      <td>22.771153</td>\n      <td>13.506299</td>\n      <td>24.391973</td>\n    </tr>\n    <tr>\n      <th>Elmer Fudd</th>\n      <td>0.615590</td>\n      <td>29.926615</td>\n      <td>15.529334</td>\n      <td>34.731066</td>\n      <td>4.863447</td>\n      <td>22.864456</td>\n      <td>12.045542</td>\n      <td>23.725948</td>\n    </tr>\n    <tr>\n      <th>Lola Bunny</th>\n      <td>0.630006</td>\n      <td>32.337376</td>\n      <td>14.044041</td>\n      <td>38.361895</td>\n      <td>4.331783</td>\n      <td>16.841114</td>\n      <td>16.278124</td>\n      <td>37.524819</td>\n    </tr>\n    <tr>\n      <th>Porky Pig</th>\n      <td>0.625459</td>\n      <td>35.605655</td>\n      <td>15.803928</td>\n      <td>37.936052</td>\n      <td>5.863382</td>\n      <td>22.339962</td>\n      <td>15.581493</td>\n      <td>31.595700</td>\n    </tr>\n    <tr>\n      <th>Tasmanian Devil</th>\n      <td>0.620171</td>\n      <td>27.740596</td>\n      <td>14.008425</td>\n      <td>32.835602</td>\n      <td>3.767198</td>\n      <td>21.099781</td>\n      <td>9.225183</td>\n      <td>20.935741</td>\n    </tr>\n    <tr>\n      <th>Gossamer</th>\n      <td>0.616613</td>\n      <td>29.808961</td>\n      <td>15.019510</td>\n      <td>36.914677</td>\n      <td>4.727817</td>\n      <td>17.864036</td>\n      <td>13.500784</td>\n      <td>30.515731</td>\n    </tr>\n    <tr>\n      <th>Granny</th>\n      <td>0.614282</td>\n      <td>24.426207</td>\n      <td>16.931074</td>\n      <td>33.709907</td>\n      <td>7.401412</td>\n      <td>15.819833</td>\n      <td>11.289275</td>\n      <td>24.396099</td>\n    </tr>\n    <tr>\n      <th>Wile E. Coyote</th>\n      <td>0.610029</td>\n      <td>27.776830</td>\n      <td>14.871565</td>\n      <td>33.690777</td>\n      <td>7.502795</td>\n      <td>19.122763</td>\n      <td>15.648829</td>\n      <td>29.597320</td>\n    </tr>\n    <tr>\n      <th>Tweety</th>\n      <td>0.623467</td>\n      <td>27.424198</td>\n      <td>12.704424</td>\n      <td>35.949125</td>\n      <td>5.184001</td>\n      <td>28.880747</td>\n      <td>11.278345</td>\n      <td>21.356923</td>\n    </tr>\n    <tr>\n      <th>Penelope</th>\n      <td>0.596406</td>\n      <td>23.761302</td>\n      <td>15.866844</td>\n      <td>30.443477</td>\n      <td>8.961021</td>\n      <td>16.037439</td>\n      <td>11.788647</td>\n      <td>22.114675</td>\n    </tr>\n    <tr>\n      <th>Daffy Duck</th>\n      <td>0.611662</td>\n      <td>35.385934</td>\n      <td>14.840037</td>\n      <td>32.986584</td>\n      <td>5.535497</td>\n      <td>21.023430</td>\n      <td>15.027742</td>\n      <td>28.488832</td>\n    </tr>\n    <tr>\n      <th rowspan=\"15\" valign=\"top\">24</th>\n      <th>Sylvester</th>\n      <td>0.624356</td>\n      <td>30.159091</td>\n      <td>14.821351</td>\n      <td>38.746883</td>\n      <td>7.642691</td>\n      <td>22.451190</td>\n      <td>14.019674</td>\n      <td>29.345835</td>\n    </tr>\n    <tr>\n      <th>Marvin the Martian</th>\n      <td>0.618573</td>\n      <td>32.094127</td>\n      <td>14.679975</td>\n      <td>31.026946</td>\n      <td>5.499514</td>\n      <td>21.160855</td>\n      <td>11.897965</td>\n      <td>23.053380</td>\n    </tr>\n    <tr>\n      <th>Road Runner</th>\n      <td>0.633047</td>\n      <td>29.520586</td>\n      <td>13.760796</td>\n      <td>33.342606</td>\n      <td>7.384628</td>\n      <td>27.749690</td>\n      <td>11.380414</td>\n      <td>20.249751</td>\n    </tr>\n    <tr>\n      <th>Foghorn Leghorn</th>\n      <td>0.617395</td>\n      <td>32.036366</td>\n      <td>14.866802</td>\n      <td>37.223825</td>\n      <td>4.452568</td>\n      <td>15.871959</td>\n      <td>14.746099</td>\n      <td>34.081128</td>\n    </tr>\n    <tr>\n      <th>Bugs Bunny</th>\n      <td>0.627845</td>\n      <td>34.122943</td>\n      <td>14.994379</td>\n      <td>32.195820</td>\n      <td>4.084502</td>\n      <td>15.360965</td>\n      <td>10.902459</td>\n      <td>26.872397</td>\n    </tr>\n    <tr>\n      <th>Elmer Fudd</th>\n      <td>0.615766</td>\n      <td>27.765832</td>\n      <td>14.642831</td>\n      <td>34.660409</td>\n      <td>4.687377</td>\n      <td>25.718386</td>\n      <td>16.134627</td>\n      <td>27.926526</td>\n    </tr>\n    <tr>\n      <th>Lola Bunny</th>\n      <td>0.637466</td>\n      <td>29.832727</td>\n      <td>15.716571</td>\n      <td>34.166598</td>\n      <td>4.839065</td>\n      <td>18.576341</td>\n      <td>15.517048</td>\n      <td>32.001497</td>\n    </tr>\n    <tr>\n      <th>Porky Pig</th>\n      <td>0.595595</td>\n      <td>31.124969</td>\n      <td>14.482731</td>\n      <td>33.741422</td>\n      <td>6.520593</td>\n      <td>19.403661</td>\n      <td>15.098909</td>\n      <td>28.660395</td>\n    </tr>\n    <tr>\n      <th>Tasmanian Devil</th>\n      <td>0.613218</td>\n      <td>26.840580</td>\n      <td>14.073545</td>\n      <td>37.264438</td>\n      <td>5.240872</td>\n      <td>19.378066</td>\n      <td>11.131734</td>\n      <td>26.410875</td>\n    </tr>\n    <tr>\n      <th>Gossamer</th>\n      <td>0.621674</td>\n      <td>34.389469</td>\n      <td>16.049611</td>\n      <td>35.584218</td>\n      <td>4.597731</td>\n      <td>9.784009</td>\n      <td>16.351950</td>\n      <td>38.880098</td>\n    </tr>\n    <tr>\n      <th>Granny</th>\n      <td>0.625862</td>\n      <td>25.864492</td>\n      <td>14.691317</td>\n      <td>34.490525</td>\n      <td>6.674332</td>\n      <td>21.332127</td>\n      <td>15.588129</td>\n      <td>29.645427</td>\n    </tr>\n    <tr>\n      <th>Wile E. Coyote</th>\n      <td>0.624036</td>\n      <td>27.207557</td>\n      <td>13.570077</td>\n      <td>37.190182</td>\n      <td>8.079963</td>\n      <td>22.308908</td>\n      <td>13.815201</td>\n      <td>28.495237</td>\n    </tr>\n    <tr>\n      <th>Tweety</th>\n      <td>0.607694</td>\n      <td>27.450094</td>\n      <td>12.350744</td>\n      <td>39.512016</td>\n      <td>6.711323</td>\n      <td>19.887700</td>\n      <td>10.205461</td>\n      <td>26.490005</td>\n    </tr>\n    <tr>\n      <th>Penelope</th>\n      <td>0.613178</td>\n      <td>26.913538</td>\n      <td>14.053947</td>\n      <td>31.148268</td>\n      <td>7.952882</td>\n      <td>14.924186</td>\n      <td>11.853631</td>\n      <td>25.843251</td>\n    </tr>\n    <tr>\n      <th>Daffy Duck</th>\n      <td>0.628248</td>\n      <td>28.956564</td>\n      <td>15.244341</td>\n      <td>33.917377</td>\n      <td>6.315589</td>\n      <td>17.937021</td>\n      <td>13.444315</td>\n      <td>28.651908</td>\n    </tr>\n    <tr>\n      <th rowspan=\"15\" valign=\"top\">36</th>\n      <th>Sylvester</th>\n      <td>0.617260</td>\n      <td>34.401920</td>\n      <td>15.140567</td>\n      <td>36.904334</td>\n      <td>9.014761</td>\n      <td>23.038482</td>\n      <td>15.057178</td>\n      <td>28.809615</td>\n    </tr>\n    <tr>\n      <th>Marvin the Martian</th>\n      <td>0.609166</td>\n      <td>32.336227</td>\n      <td>13.862767</td>\n      <td>30.682354</td>\n      <td>7.058946</td>\n      <td>23.423840</td>\n      <td>13.152047</td>\n      <td>22.736983</td>\n    </tr>\n    <tr>\n      <th>Road Runner</th>\n      <td>0.627826</td>\n      <td>27.397963</td>\n      <td>13.492142</td>\n      <td>36.556197</td>\n      <td>6.258163</td>\n      <td>26.355729</td>\n      <td>11.264560</td>\n      <td>22.803450</td>\n    </tr>\n    <tr>\n      <th>Foghorn Leghorn</th>\n      <td>0.614912</td>\n      <td>30.782816</td>\n      <td>15.878454</td>\n      <td>35.500443</td>\n      <td>5.965294</td>\n      <td>18.908133</td>\n      <td>11.960531</td>\n      <td>26.094368</td>\n    </tr>\n    <tr>\n      <th>Bugs Bunny</th>\n      <td>0.610781</td>\n      <td>32.351905</td>\n      <td>14.848439</td>\n      <td>32.212458</td>\n      <td>7.279215</td>\n      <td>19.702853</td>\n      <td>16.317508</td>\n      <td>29.842445</td>\n    </tr>\n    <tr>\n      <th>Elmer Fudd</th>\n      <td>0.608153</td>\n      <td>29.842976</td>\n      <td>16.167218</td>\n      <td>35.290089</td>\n      <td>2.838064</td>\n      <td>23.140353</td>\n      <td>13.788490</td>\n      <td>26.031215</td>\n    </tr>\n    <tr>\n      <th>Lola Bunny</th>\n      <td>0.635654</td>\n      <td>33.547858</td>\n      <td>13.150205</td>\n      <td>36.669358</td>\n      <td>3.983552</td>\n      <td>20.110698</td>\n      <td>16.454580</td>\n      <td>35.755853</td>\n    </tr>\n    <tr>\n      <th>Porky Pig</th>\n      <td>0.599812</td>\n      <td>29.110660</td>\n      <td>15.921443</td>\n      <td>39.126839</td>\n      <td>5.964869</td>\n      <td>22.755042</td>\n      <td>13.665009</td>\n      <td>27.201331</td>\n    </tr>\n    <tr>\n      <th>Tasmanian Devil</th>\n      <td>0.604409</td>\n      <td>27.635730</td>\n      <td>13.612671</td>\n      <td>31.698874</td>\n      <td>7.041751</td>\n      <td>22.448240</td>\n      <td>7.402258</td>\n      <td>15.379120</td>\n    </tr>\n    <tr>\n      <th>Gossamer</th>\n      <td>0.620466</td>\n      <td>31.252008</td>\n      <td>15.548794</td>\n      <td>35.501865</td>\n      <td>3.921959</td>\n      <td>10.779538</td>\n      <td>13.510357</td>\n      <td>34.340521</td>\n    </tr>\n    <tr>\n      <th>Granny</th>\n      <td>0.617780</td>\n      <td>28.122471</td>\n      <td>14.684284</td>\n      <td>34.113197</td>\n      <td>4.585701</td>\n      <td>20.292809</td>\n      <td>14.500796</td>\n      <td>28.843918</td>\n    </tr>\n    <tr>\n      <th>Wile E. Coyote</th>\n      <td>0.632471</td>\n      <td>29.507201</td>\n      <td>14.010215</td>\n      <td>32.807037</td>\n      <td>5.563473</td>\n      <td>24.846579</td>\n      <td>13.838841</td>\n      <td>25.424195</td>\n    </tr>\n    <tr>\n      <th>Tweety</th>\n      <td>0.602517</td>\n      <td>28.901738</td>\n      <td>13.250853</td>\n      <td>35.547715</td>\n      <td>6.760709</td>\n      <td>28.073409</td>\n      <td>13.030263</td>\n      <td>22.300786</td>\n    </tr>\n    <tr>\n      <th>Penelope</th>\n      <td>0.599279</td>\n      <td>25.668632</td>\n      <td>15.084460</td>\n      <td>33.082759</td>\n      <td>7.989711</td>\n      <td>17.390489</td>\n      <td>12.570710</td>\n      <td>24.973227</td>\n    </tr>\n    <tr>\n      <th>Daffy Duck</th>\n      <td>0.615716</td>\n      <td>29.686472</td>\n      <td>15.259576</td>\n      <td>29.721077</td>\n      <td>6.356571</td>\n      <td>19.536531</td>\n      <td>14.292805</td>\n      <td>25.664584</td>\n    </tr>\n  </tbody>\n</table>\n</div>"
     },
     "metadata": {},
     "execution_count": 20
    }
   ],
   "source": [
    "# Initialize four empty DataFrames, one for each 12-minute period.\n",
    "number_of_iterations = 4\n",
    "df_list = [pd.DataFrame(columns=game_stat_cols, index=list(ts_ds['player_name'])) for i in range(number_of_iterations)]\n",
    "\n",
    "# For each period, generate randomized player data and predict the PER.\n",
    "# Use the model fitted earlier.\n",
    "for df in df_list:\n",
    "    for stat in game_stat_cols:\n",
    "        df[stat] = list(ts_ds[stat] + randn(len(ts_ds)) * stdev_s[stat])\n",
    "    df['PER'] = lin_reg.predict(df)\n",
    "\n",
    "# Concatenate the DataFrames and make the players' names the index.\n",
    "game_df = pd.concat(df_list)\n",
    "game_df.rename_axis('player_name', inplace=True)\n",
    "\n",
    "# Create another index for the period in question.\n",
    "minutes = [(x // len(ts_ds)) * 12 for x in range(len(game_df))]\n",
    "game_df['minutes'] = minutes\n",
    "game_df.set_index('minutes', append=True, inplace=True)\n",
    "game_df = game_df.swaplevel()\n",
    "\n",
    "game_df"
   ]
  },
  {
   "cell_type": "code",
   "execution_count": 21,
   "metadata": {},
   "outputs": [],
   "source": [
    "# Export the finished DataFrame to CSV.\n",
    "game_df.to_csv('game_stats.csv')"
   ]
  },
  {
   "cell_type": "code",
   "execution_count": null,
   "metadata": {},
   "outputs": [],
   "source": []
  }
 ]
}